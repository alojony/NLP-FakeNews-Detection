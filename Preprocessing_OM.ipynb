{
 "cells": [
  {
   "cell_type": "code",
   "execution_count": null,
   "id": "eb3749f2",
   "metadata": {},
   "outputs": [],
   "source": [
    "# To convert &amp; back to &, &quot; to \", and so on, for any HTML entity encoded in the text string\n",
    "import html "
   ]
  },
  {
   "cell_type": "code",
   "execution_count": 2,
   "id": "193c42f7",
   "metadata": {},
   "outputs": [
    {
     "name": "stdout",
     "output_type": "stream",
     "text": [
      "The & symbol is used for \"and\" in HTML.\n"
     ]
    }
   ],
   "source": [
    "# Example with HTML entities\n",
    "text_with_entities = \"The &amp; symbol is used for &quot;and&quot; in HTML.\"\n",
    "\n",
    "# Using html.unescape() to decode HTML entities\n",
    "decoded_text = html.unescape(text_with_entities)\n",
    "\n",
    "print(decoded_text)"
   ]
  },
  {
   "cell_type": "code",
   "execution_count": null,
   "id": "d648a7b6",
   "metadata": {},
   "outputs": [],
   "source": [
    "# Code to put in preprocessing.py (Xavier)\n",
    "\n",
    "# Using html.unescape() to decode HTML entities\n",
    "if HTMLentity:\n",
    "    tweet = html.unescape(tweet)"
   ]
  },
  {
   "cell_type": "code",
   "execution_count": 3,
   "id": "951aa990",
   "metadata": {},
   "outputs": [],
   "source": [
    "# To remove contractions \n",
    "import re"
   ]
  },
  {
   "cell_type": "code",
   "execution_count": 4,
   "id": "e6eef42e",
   "metadata": {},
   "outputs": [],
   "source": [
    "# Dictionary of contractions and their expansions\n",
    "contractions_dict = {\n",
    "    \"I'm\": \"I am\",\n",
    "    \"you're\": \"you are\",\n",
    "    \"he's\": \"he is\",\n",
    "    \"she's\": \"she is\",\n",
    "    \"it's\": \"it is\",\n",
    "    \"we're\": \"we are\",\n",
    "    \"they're\": \"they are\",\n",
    "    \"I've\": \"I have\",\n",
    "    \"you've\": \"you have\",\n",
    "    \"we've\": \"we have\",\n",
    "    \"they've\": \"they have\",\n",
    "    \"I'd\": \"I would\",\n",
    "    \"you'd\": \"you would\",\n",
    "    \"he'd\": \"he would\",\n",
    "    \"she'd\": \"she would\",\n",
    "    \"we'd\": \"we would\",\n",
    "    \"they'd\": \"they would\",\n",
    "    \"I'll\": \"I will\",\n",
    "    \"you'll\": \"you will\",\n",
    "    \"he'll\": \"he will\",\n",
    "    \"she'll\": \"she will\",\n",
    "    \"we'll\": \"we will\",\n",
    "    \"they'll\": \"they will\",\n",
    "    \"isn't\": \"is not\",\n",
    "    \"aren't\": \"are not\",\n",
    "    \"wasn't\": \"was not\",\n",
    "    \"weren't\": \"were not\",\n",
    "    \"haven't\": \"have not\",\n",
    "    \"hasn't\": \"has not\",\n",
    "    \"hadn't\": \"had not\",\n",
    "    \"won't\": \"will not\",\n",
    "    \"wouldn't\": \"would not\",\n",
    "    \"don't\": \"do not\",\n",
    "    \"doesn't\": \"does not\",\n",
    "    \"didn't\": \"did not\",\n",
    "    \"can't\": \"cannot\",\n",
    "    \"couldn't\": \"could not\",\n",
    "    \"shouldn't\": \"should not\",\n",
    "    \"mightn't\": \"might not\",\n",
    "    \"mustn't\": \"must not\"\n",
    "}\n",
    "\n",
    "# Compile a regex object that matches any of the contractions\n",
    "contractions_re = re.compile('(%s)' % '|'.join(contractions_dict.keys()))"
   ]
  },
  {
   "cell_type": "code",
   "execution_count": 5,
   "id": "7d23bac7",
   "metadata": {},
   "outputs": [],
   "source": [
    "# Function to expand contractions\n",
    "def expand_contractions(text, contractions_dict=contractions_dict):\n",
    "    def replace(match):\n",
    "        return contractions_dict[match.group(0)]\n",
    "    return contractions_re.sub(replace, text)"
   ]
  },
  {
   "cell_type": "code",
   "execution_count": 6,
   "id": "948a953c",
   "metadata": {},
   "outputs": [
    {
     "name": "stdout",
     "output_type": "stream",
     "text": [
      "I am here but I do not think I have seen you before.\n"
     ]
    }
   ],
   "source": [
    "# Example usage\n",
    "text = \"I'm here but I don't think I've seen you before.\"\n",
    "expanded_text = expand_contractions(text)\n",
    "\n",
    "print(expanded_text)"
   ]
  },
  {
   "cell_type": "code",
   "execution_count": null,
   "id": "a9502d45",
   "metadata": {},
   "outputs": [],
   "source": [
    "# Code to put in preprocessing.py (Xavier)\n",
    "\n",
    "# To remove contractions \n",
    "if contractions:\n",
    "    tweet = expand_contractions(tweet)"
   ]
  }
 ],
 "metadata": {
  "kernelspec": {
   "display_name": "Python 3 (ipykernel)",
   "language": "python",
   "name": "python3"
  },
  "language_info": {
   "codemirror_mode": {
    "name": "ipython",
    "version": 3
   },
   "file_extension": ".py",
   "mimetype": "text/x-python",
   "name": "python",
   "nbconvert_exporter": "python",
   "pygments_lexer": "ipython3",
   "version": "3.10.9"
  }
 },
 "nbformat": 4,
 "nbformat_minor": 5
}
