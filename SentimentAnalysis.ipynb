{
 "cells": [
  {
   "cell_type": "markdown",
   "metadata": {
    "id": "KYEJ2wyRJ1Av"
   },
   "source": [
    "**Imports**"
   ]
  },
  {
   "cell_type": "code",
   "execution_count": 1,
   "metadata": {
    "id": "rgB2gVFK9Fko"
   },
   "outputs": [
    {
     "ename": "ModuleNotFoundError",
     "evalue": "No module named 'textblob'",
     "output_type": "error",
     "traceback": [
      "\u001b[0;31m---------------------------------------------------------------------------\u001b[0m",
      "\u001b[0;31mModuleNotFoundError\u001b[0m                       Traceback (most recent call last)",
      "Cell \u001b[0;32mIn[1], line 1\u001b[0m\n\u001b[0;32m----> 1\u001b[0m \u001b[38;5;28;01mfrom\u001b[39;00m \u001b[38;5;21;01mtextblob\u001b[39;00m \u001b[38;5;28;01mimport\u001b[39;00m TextBlob\n\u001b[1;32m      2\u001b[0m \u001b[38;5;28;01mimport\u001b[39;00m \u001b[38;5;21;01mpandas\u001b[39;00m \u001b[38;5;28;01mas\u001b[39;00m \u001b[38;5;21;01mpd\u001b[39;00m\n",
      "\u001b[0;31mModuleNotFoundError\u001b[0m: No module named 'textblob'"
     ]
    }
   ],
   "source": [
    "from textblob import TextBlob\n",
    "import pandas as pd"
   ]
  },
  {
   "cell_type": "markdown",
   "metadata": {
    "id": "-C_lsraXJyW0"
   },
   "source": [
    "**Loading dataset**"
   ]
  },
  {
   "cell_type": "code",
   "execution_count": 33,
   "metadata": {
    "id": "e7V1FJff-ntG"
   },
   "outputs": [],
   "source": [
    "# Path to your Excel file\n",
    "file_path = '/truth_seeker.xlsx'\n",
    "\n",
    "# Read the Excel file\n",
    "df = pd.read_excel(file_path)\n",
    "\n",
    "#Remove NA from tweet\n",
    "df = df.dropna(subset=['tweet'])\n"
   ]
  },
  {
   "cell_type": "markdown",
   "metadata": {
    "id": "7LMcLbb-KCqH"
   },
   "source": [
    "**Defining a function to calculate polarity score and categorize sentiment**"
   ]
  },
  {
   "cell_type": "code",
   "execution_count": 30,
   "metadata": {
    "colab": {
     "base_uri": "https://localhost:8080/"
    },
    "id": "yqtKqFWpI88e",
    "outputId": "e8dc9193-2508-4688-c5bf-48c19c341b93"
   },
   "outputs": [
    {
     "name": "stdout",
     "output_type": "stream",
     "text": [
      "  Unnamed: 0      author                                          statement  \\\n",
      "0          0  D.L. Davis  End of eviction moratorium means millions of A...   \n",
      "1          1  D.L. Davis  End of eviction moratorium means millions of A...   \n",
      "2          2  D.L. Davis  End of eviction moratorium means millions of A...   \n",
      "3          3  D.L. Davis  End of eviction moratorium means millions of A...   \n",
      "4          4  D.L. Davis  End of eviction moratorium means millions of A...   \n",
      "\n",
      "   target  BinaryNumTarget                 manual_keywords  \\\n",
      "0     1.0              1.0  Americans, eviction moratorium   \n",
      "1     1.0              1.0  Americans, eviction moratorium   \n",
      "2     1.0              1.0  Americans, eviction moratorium   \n",
      "3     1.0              1.0  Americans, eviction moratorium   \n",
      "4     1.0              1.0  Americans, eviction moratorium   \n",
      "\n",
      "                                               tweet 5_label_majority_answer  \\\n",
      "0  @POTUS Biden Blunders - 6 Month Update\\n\\nInfl...            Mostly Agree   \n",
      "1  @S0SickRick @Stairmaster_ @6d6f636869 Not as m...             NO MAJORITY   \n",
      "2  THE SUPREME COURT is siding with super rich pr...                   Agree   \n",
      "3  @POTUS Biden Blunders\\n\\nBroken campaign promi...            Mostly Agree   \n",
      "4  @OhComfy I agree. The confluence of events rig...                   Agree   \n",
      "\n",
      "  3_label_majority_answer                       timestamp sentiment  \\\n",
      "0                   Agree  Thu Sep 09 23:58:53 +0000 2021  positive   \n",
      "1                   Agree  Mon Aug 30 18:58:09 +0000 2021  positive   \n",
      "2                   Agree  Fri Aug 27 09:53:44 +0000 2021  positive   \n",
      "3                   Agree  Tue Oct 05 20:37:14 +0000 2021  negative   \n",
      "4                   Agree  Fri Aug 27 10:58:24 +0000 2021  positive   \n",
      "\n",
      "   polarity score      tone  \n",
      "0        0.500000  positive  \n",
      "1        0.125000  positive  \n",
      "2        0.206667  positive  \n",
      "3       -0.400000  negative  \n",
      "4        0.442857  positive  \n"
     ]
    }
   ],
   "source": [
    "def analyze_sentiment(text):\n",
    "    # Use TextBlob to get the polarity of the text\n",
    "    polarity = TextBlob(str(text)).sentiment.polarity  # Convert to str to ensure compatibility\n",
    "\n",
    "    # Categorize the sentiment based on the polarity score\n",
    "    if polarity > 0:\n",
    "        sentiment = 'positive'\n",
    "    elif polarity < 0:\n",
    "        sentiment = 'negative'\n",
    "    else:\n",
    "        sentiment = 'neutral'\n",
    "\n",
    "    return polarity, sentiment"
   ]
  },
  {
   "cell_type": "markdown",
   "metadata": {
    "id": "n-QIqf0pKSR4"
   },
   "source": [
    "**Applying the function to the \"tweet\" column and create two new columns for the results**"
   ]
  },
  {
   "cell_type": "code",
   "execution_count": null,
   "metadata": {
    "id": "sDhLfLvCKVRl"
   },
   "outputs": [],
   "source": [
    "df[['polarity score', 'tone']] = df['tweet'].apply(lambda x: pd.Series(analyze_sentiment(x)))\n",
    "\n",
    "# Display the first few rows to verify the new columns\n",
    "print(df.head())"
   ]
  },
  {
   "cell_type": "markdown",
   "metadata": {
    "id": "FqnfzJ0BKch1"
   },
   "source": [
    "**Showing the unique values of tone to see that we have positive, negative, and neutral entries**"
   ]
  },
  {
   "cell_type": "code",
   "execution_count": 31,
   "metadata": {
    "colab": {
     "base_uri": "https://localhost:8080/"
    },
    "id": "bnx3bZCECdFp",
    "outputId": "a72fbe4a-cb8a-4cad-89fe-ca64098c979e"
   },
   "outputs": [
    {
     "name": "stdout",
     "output_type": "stream",
     "text": [
      "['positive' 'negative' 'neutral']\n"
     ]
    }
   ],
   "source": [
    "print(df['tone'].unique())"
   ]
  }
 ],
 "metadata": {
  "colab": {
   "provenance": []
  },
  "kernelspec": {
   "display_name": "Python 3 (ipykernel)",
   "language": "python",
   "name": "python3"
  },
  "language_info": {
   "codemirror_mode": {
    "name": "ipython",
    "version": 3
   },
   "file_extension": ".py",
   "mimetype": "text/x-python",
   "name": "python",
   "nbconvert_exporter": "python",
   "pygments_lexer": "ipython3",
   "version": "3.9.18"
  }
 },
 "nbformat": 4,
 "nbformat_minor": 4
}
