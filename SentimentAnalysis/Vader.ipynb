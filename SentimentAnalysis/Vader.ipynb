{
 "cells": [
  {
   "cell_type": "code",
   "execution_count": 11,
   "id": "d66304a1",
   "metadata": {},
   "outputs": [
    {
     "name": "stderr",
     "output_type": "stream",
     "text": [
      "[nltk_data] Downloading package vader_lexicon to\n",
      "[nltk_data]     /Users/oliviamirijello/nltk_data...\n",
      "[nltk_data]   Package vader_lexicon is already up-to-date!\n"
     ]
    }
   ],
   "source": [
    "from nltk.sentiment.vader import SentimentIntensityAnalyzer\n",
    "import nltk\n",
    "import numpy as np\n",
    "import pandas as pd\n",
    "nltk.download('vader_lexicon')\n",
    "\n",
    "# Initialize VADER\n",
    "sid = SentimentIntensityAnalyzer()"
   ]
  },
  {
   "cell_type": "code",
   "execution_count": 5,
   "id": "520da8d4",
   "metadata": {},
   "outputs": [],
   "source": [
    "#Load data \n",
    "\n",
    "#Path to Excel file\n",
    "file_path = '/Users/oliviamirijello/Desktop/TextMining/Project/NLP-FakeNews-Detection/archive/truth_seeker.xlsx'\n",
    "\n",
    "#Read Excel file\n",
    "df = pd.read_excel(file_path)\n",
    "\n",
    "#Remove NA from tweet\n",
    "df = df.dropna(subset=['tweet'])"
   ]
  },
  {
   "cell_type": "code",
   "execution_count": 7,
   "id": "1397b9ea",
   "metadata": {},
   "outputs": [],
   "source": [
    "# Apply SID to each tweet and expand the results into separate columns\n",
    "df[['neg', 'neu', 'pos', 'compound']] = df['tweet'].apply(lambda x: pd.Series(sid.polarity_scores(x)))"
   ]
  },
  {
   "cell_type": "code",
   "execution_count": 9,
   "id": "722de253",
   "metadata": {},
   "outputs": [
    {
     "name": "stdout",
     "output_type": "stream",
     "text": [
      "                                               tweet    neg    neu    pos  \\\n",
      "0  @POTUS Biden Blunders - 6 Month Update\\n\\nInfl...  0.316  0.631  0.053   \n",
      "1  @S0SickRick @Stairmaster_ @6d6f636869 Not as m...  0.311  0.689  0.000   \n",
      "2  THE SUPREME COURT is siding with super rich pr...  0.297  0.447  0.256   \n",
      "3  @POTUS Biden Blunders\\n\\nBroken campaign promi...  0.276  0.576  0.147   \n",
      "4  @OhComfy I agree. The confluence of events rig...  0.241  0.701  0.058   \n",
      "\n",
      "   compound  \n",
      "0   -0.9169  \n",
      "1   -0.9449  \n",
      "2   -0.3147  \n",
      "3   -0.8280  \n",
      "4   -0.8316  \n"
     ]
    }
   ],
   "source": [
    "#Display the first few rows to verify the new columns\n",
    "print(df[['tweet', 'neg', 'neu', 'pos', 'compound']].head())"
   ]
  },
  {
   "cell_type": "code",
   "execution_count": null,
   "id": "aca46910",
   "metadata": {},
   "outputs": [],
   "source": []
  }
 ],
 "metadata": {
  "kernelspec": {
   "display_name": "Python 3 (ipykernel)",
   "language": "python",
   "name": "python3"
  },
  "language_info": {
   "codemirror_mode": {
    "name": "ipython",
    "version": 3
   },
   "file_extension": ".py",
   "mimetype": "text/x-python",
   "name": "python",
   "nbconvert_exporter": "python",
   "pygments_lexer": "ipython3",
   "version": "3.10.9"
  }
 },
 "nbformat": 4,
 "nbformat_minor": 5
}
