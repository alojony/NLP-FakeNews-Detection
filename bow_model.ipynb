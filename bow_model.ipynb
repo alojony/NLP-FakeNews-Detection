{
 "cells": [
  {
   "cell_type": "markdown",
   "id": "2355d756-512d-4da8-b35e-d7bb0e1e7bc8",
   "metadata": {},
   "source": [
    "### IMPORTS"
   ]
  },
  {
   "cell_type": "code",
   "execution_count": null,
   "id": "b87bff4f-754e-403d-809e-c8e07da54ed9",
   "metadata": {},
   "outputs": [],
   "source": [
    "import nltk\n",
    "import spacy\n",
    "from modules.utils import build_dataset, tune_logistic_regression, tune_svm, evaluate\n",
    "import sklearn\n",
    "from modules.preprocess import spacy_tokenizer, text_edit\n",
    "from sklearn.model_selection import train_test_split\n",
    "from sklearn.feature_extraction.text import TfidfVectorizer, CountVectorizer\n",
    "from sklearn.naive_bayes import MultinomialNB\n",
    "import pickle\n",
    "from sklearn.linear_model import LogisticRegression\n",
    "from sklearn.svm import SVC\n",
    "from sklearn.ensemble import VotingClassifier\n",
    "from sklearn.neural_network import MLPClassifier"
   ]
  },
  {
   "cell_type": "markdown",
   "id": "6931f1e8-cf5e-4f82-a0f6-c6e67f5ae0c0",
   "metadata": {},
   "source": [
    "### LOAD DATASET"
   ]
  },
  {
   "cell_type": "code",
   "execution_count": null,
   "id": "f7342834-aff0-4144-9cc5-1a3f35161a01",
   "metadata": {},
   "outputs": [],
   "source": [
    "dataset = build_dataset('archive/truth_seeker.xlsx', num_class_samples=3000, rnd_state=10)"
   ]
  },
  {
   "cell_type": "markdown",
   "id": "1cf0b2ef-eb5d-4d95-8b87-f8fba4f7df70",
   "metadata": {},
   "source": [
    "### PREPROCESS DATA"
   ]
  },
  {
   "cell_type": "code",
   "execution_count": null,
   "id": "0a9e22a5-9d44-45f6-a8f3-6ad15530c69d",
   "metadata": {},
   "outputs": [],
   "source": [
    "dataset = text_edit(dataset,\n",
    "                    grp_num=True,\n",
    "                    grp_mention=True,\n",
    "                    rm_newline=True,\n",
    "                    rm_punctuation=True,\n",
    "                    rm_stop_words=True,\n",
    "                    lowercase=True,\n",
    "                    lemmatize=False)"
   ]
  },
  {
   "cell_type": "markdown",
   "id": "c199a9d7-fdd1-41c0-bffd-8871a822e58d",
   "metadata": {},
   "source": [
    "### CREATE SAMPLE AND TARGET LISTS"
   ]
  },
  {
   "cell_type": "code",
   "execution_count": null,
   "id": "6add6bfe-5a40-4f1e-8e9e-61a1c77e31a0",
   "metadata": {},
   "outputs": [],
   "source": [
    "X = [x['tweet'] for x in dataset.values()]\n",
    "Y = [x['BinaryNumTarget'] for x in dataset.values()]"
   ]
  },
  {
   "cell_type": "markdown",
   "id": "199fc6cb-9a8d-4cc9-9012-ce6c306f5960",
   "metadata": {},
   "source": [
    "### TRAIN/TEST SPLIT"
   ]
  },
  {
   "cell_type": "code",
   "execution_count": null,
   "id": "96fa22b5-5a5d-4248-85a5-228ddcc62d17",
   "metadata": {},
   "outputs": [],
   "source": [
    "X_train, X_test, Y_train, Y_test = train_test_split(X, Y, test_size=0.3, random_state = 42)"
   ]
  },
  {
   "cell_type": "markdown",
   "id": "49a15c8f-cad4-4807-ac7e-505cb7a3c73b",
   "metadata": {},
   "source": [
    "### GENERATE BAG OF WORDS"
   ]
  },
  {
   "cell_type": "code",
   "execution_count": null,
   "id": "461727f5-b0e6-49b2-91b2-47410d3c4b1d",
   "metadata": {
    "scrolled": true
   },
   "outputs": [],
   "source": [
    "vector_count = CountVectorizer(tokenizer=spacy_tokenizer)\n",
    "bow_train = vector_count.fit_transform(X_train)\n",
    "bow_test =  vector_count.transform(X_test)"
   ]
  },
  {
   "cell_type": "code",
   "execution_count": null,
   "id": "b04262c0-e92a-44f2-97c2-3d1ad227deb0",
   "metadata": {},
   "outputs": [],
   "source": []
  },
  {
   "cell_type": "markdown",
   "id": "24994329-71e1-4bb3-b1e1-f5f64eab4f8c",
   "metadata": {},
   "source": [
    "### HYPERPARAMETER TUNING"
   ]
  },
  {
   "cell_type": "code",
   "execution_count": null,
   "id": "229c7de0-9358-402c-836e-6054b6781f37",
   "metadata": {},
   "outputs": [],
   "source": [
    "svm_model = tune_svm(bow_train, Y_train)"
   ]
  },
  {
   "cell_type": "code",
   "execution_count": null,
   "id": "f325cb29-8ade-42e7-b030-7ed08c7ff060",
   "metadata": {},
   "outputs": [],
   "source": [
    "lr_model = tune_logistic_regression(bow_train, Y_train)"
   ]
  },
  {
   "cell_type": "code",
   "execution_count": null,
   "id": "6891ec9f-f9ec-4a5e-9b2c-cc2b579bad3f",
   "metadata": {},
   "outputs": [],
   "source": [
    "mlp_model = MLPClassifier(hidden_layer_sizes=(25, 100, 100, 25), activation='relu', max_iter=5000, random_state=42)"
   ]
  },
  {
   "cell_type": "markdown",
   "id": "fc25e769-ce35-4fa6-abb9-1ce85826edb8",
   "metadata": {},
   "source": [
    "### TRAIN CLASSIFIER"
   ]
  },
  {
   "cell_type": "code",
   "execution_count": null,
   "id": "a4a67229-c813-4140-9d07-43150beae534",
   "metadata": {},
   "outputs": [],
   "source": [
    "lr_model.fit(bow_train, Y_train)\n",
    "lr_y_pred = lr_model.predict(bow_test)\n",
    "evaluate(Y_test, lr_y_pred)"
   ]
  },
  {
   "cell_type": "code",
   "execution_count": null,
   "id": "f33cff84-0870-41f6-8d7c-085264b68889",
   "metadata": {},
   "outputs": [],
   "source": [
    "svm_model.fit(bow_train, Y_train)\n",
    "svm_y_pred = svm_model.predict(bow_test)\n",
    "evaluate(Y_test, svm_y_pred)"
   ]
  },
  {
   "cell_type": "code",
   "execution_count": null,
   "id": "5c77a621-751f-4354-970d-97b67fcfa189",
   "metadata": {},
   "outputs": [],
   "source": [
    "mlp_model.fit(bow_train, Y_train)\n",
    "mlp_y_pred = mlp_model.predict(bow_test)\n",
    "evaluate(Y_test, mlp_y_pred)"
   ]
  },
  {
   "cell_type": "markdown",
   "id": "50eccfd6-11ac-4ac8-a114-f31e0c9258c4",
   "metadata": {},
   "source": [
    "### TRAIN ENSEMBLE CLASSIFIER"
   ]
  },
  {
   "cell_type": "code",
   "execution_count": null,
   "id": "cbb10aa2-e1c4-4021-911b-c19073dffb51",
   "metadata": {},
   "outputs": [],
   "source": [
    "svm_model = SVC(probability=True, C=100, degree=2, gamma='scale', kernel='poly', random_state=42) \n",
    "lr_model = LogisticRegression(C=10, penalty='l2', solver='liblinear', max_iter=5000, random_state=42)\n",
    "mlp_model = MLPClassifier(hidden_layer_sizes=(25, 100, 100, 25), activation='relu', max_iter=5000, random_state=42)"
   ]
  },
  {
   "cell_type": "code",
   "execution_count": null,
   "id": "d2961046-8cfb-45c9-bcfa-4076b898b1c3",
   "metadata": {},
   "outputs": [],
   "source": [
    "svm_model.fit(bow_train, Y_train)\n",
    "lr_model.fit(bow_train, Y_train)\n",
    "mlp_model.fit(bow_train, Y_train)"
   ]
  },
  {
   "cell_type": "code",
   "execution_count": null,
   "id": "9bf4dbed-24b5-4113-af2d-4f76f3311a23",
   "metadata": {},
   "outputs": [],
   "source": [
    "ensemble_model = VotingClassifier(estimators=[('svm', svm_model), ('logistic', lr_model), ('mlp', mlp_model)], voting='soft')"
   ]
  },
  {
   "cell_type": "code",
   "execution_count": null,
   "id": "704794ce-2afd-4540-bd3e-164108ea3b9c",
   "metadata": {},
   "outputs": [],
   "source": [
    "ensemble_model.fit(bow_train, Y_train)\n",
    "ensemble_y_pred = ensemble_model.predict(bow_test)\n",
    "evaluate(Y_test, ensemble_y_pred)"
   ]
  }
 ],
 "metadata": {
  "kernelspec": {
   "display_name": "Python 3 (ipykernel)",
   "language": "python",
   "name": "python3"
  },
  "language_info": {
   "codemirror_mode": {
    "name": "ipython",
    "version": 3
   },
   "file_extension": ".py",
   "mimetype": "text/x-python",
   "name": "python",
   "nbconvert_exporter": "python",
   "pygments_lexer": "ipython3",
   "version": "3.9.18"
  }
 },
 "nbformat": 4,
 "nbformat_minor": 5
}
