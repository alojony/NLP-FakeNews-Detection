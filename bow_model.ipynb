{
 "cells": [
  {
   "cell_type": "markdown",
   "id": "2355d756-512d-4da8-b35e-d7bb0e1e7bc8",
   "metadata": {},
   "source": [
    "### IMPORTS"
   ]
  },
  {
   "cell_type": "code",
   "execution_count": 1,
   "id": "b87bff4f-754e-403d-809e-c8e07da54ed9",
   "metadata": {},
   "outputs": [
    {
     "name": "stderr",
     "output_type": "stream",
     "text": [
      "[nltk_data] Downloading package stopwords to /home/xavier/nltk_data...\n",
      "[nltk_data]   Package stopwords is already up-to-date!\n"
     ]
    }
   ],
   "source": [
    "import nltk\n",
    "import spacy\n",
    "from modules.utils import build_dataset\n",
    "import sklearn\n",
    "from modules.preprocess import spacy_tokenizer, text_edit\n",
    "from sklearn.model_selection import train_test_split\n",
    "from sklearn.feature_extraction.text import TfidfVectorizer, CountVectorizer\n",
    "from sklearn.naive_bayes import MultinomialNB\n",
    "from sklearn.linear_model import LogisticRegression\n",
    "from sklearn.metrics import accuracy_score, recall_score, f1_score, precision_score\n",
    "import pickle"
   ]
  },
  {
   "cell_type": "markdown",
   "id": "6931f1e8-cf5e-4f82-a0f6-c6e67f5ae0c0",
   "metadata": {},
   "source": [
    "### LOAD DATASET"
   ]
  },
  {
   "cell_type": "code",
   "execution_count": 2,
   "id": "f7342834-aff0-4144-9cc5-1a3f35161a01",
   "metadata": {},
   "outputs": [],
   "source": [
    "dataset = build_dataset('archive/truth_seeker.xlsx', num_class_samples=1500, rnd_state=5)"
   ]
  },
  {
   "cell_type": "markdown",
   "id": "1cf0b2ef-eb5d-4d95-8b87-f8fba4f7df70",
   "metadata": {},
   "source": [
    "### PREPROCESS DATA"
   ]
  },
  {
   "cell_type": "code",
   "execution_count": 3,
   "id": "0a9e22a5-9d44-45f6-a8f3-6ad15530c69d",
   "metadata": {},
   "outputs": [],
   "source": [
    "dataset = text_edit(dataset,\n",
    "                    num=True,\n",
    "                    mention=True,\n",
    "                    newline=True,\n",
    "                    punctuation=True,\n",
    "                    stop_words_=True)"
   ]
  },
  {
   "cell_type": "markdown",
   "id": "c199a9d7-fdd1-41c0-bffd-8871a822e58d",
   "metadata": {},
   "source": [
    "### CREATE SAMPLE AND TARGET LISTS"
   ]
  },
  {
   "cell_type": "code",
   "execution_count": 4,
   "id": "6add6bfe-5a40-4f1e-8e9e-61a1c77e31a0",
   "metadata": {},
   "outputs": [],
   "source": [
    "X = [x['tweet'] for x in dataset.values()]\n",
    "Y = [x['BinaryNumTarget'] for x in dataset.values()]"
   ]
  },
  {
   "cell_type": "markdown",
   "id": "0d9c1655-2443-4fb9-8fc4-5b0c4f3172f3",
   "metadata": {},
   "source": [
    "### GENERATE BAG OF WORDS"
   ]
  },
  {
   "cell_type": "code",
   "execution_count": null,
   "id": "a972feb4-9e86-4db6-a264-14c16b568396",
   "metadata": {},
   "outputs": [],
   "source": [
    "vector_count = CountVectorizer(tokenizer=spacy_tokenizer, lowercase=True)\n",
    "bow_train = vector_count.fit_transform(X_train)\n",
    "bow_test =  vector_count.transform(X_test)\n",
    "#vector_count.vocabulary_"
   ]
  },
  {
   "cell_type": "markdown",
   "id": "199fc6cb-9a8d-4cc9-9012-ce6c306f5960",
   "metadata": {},
   "source": [
    "### TRAIN/TEST SPLIT"
   ]
  },
  {
   "cell_type": "code",
   "execution_count": 5,
   "id": "96fa22b5-5a5d-4248-85a5-228ddcc62d17",
   "metadata": {},
   "outputs": [],
   "source": [
    "#Do train/test split\n",
    "X_train, X_test, Y_train, Y_test = train_test_split(X, Y, test_size=0.3, random_state = 42)"
   ]
  },
  {
   "cell_type": "markdown",
   "id": "fc25e769-ce35-4fa6-abb9-1ce85826edb8",
   "metadata": {},
   "source": [
    "### TRAIN CLASSIFIER"
   ]
  },
  {
   "cell_type": "code",
   "execution_count": 10,
   "id": "a4a67229-c813-4140-9d07-43150beae534",
   "metadata": {},
   "outputs": [],
   "source": [
    "#TODO: Hyperparameter tuning - Find best combination of solver, penalty, etc. \n",
    "\n",
    "#Define logistic regression model\n",
    "lr_model = LogisticRegression(random_state=42, solver='lbfgs', max_iter =2000)\n",
    "#Train logistic regression model\n",
    "lr_model.fit(bow_train, Y_train)\n",
    "#Get predictions on the test set\n",
    "lr_y_pred = lr_model.predict(bow_test)\n",
    "lr_y_proba = lr_model.predict_proba(bow_test)"
   ]
  },
  {
   "cell_type": "markdown",
   "id": "516db767-fed8-4866-bc06-6ed77d642936",
   "metadata": {},
   "source": [
    "### EVALUATE"
   ]
  },
  {
   "cell_type": "code",
   "execution_count": 11,
   "id": "f1c77ef3-7425-43f8-b609-99ee72283d97",
   "metadata": {},
   "outputs": [
    {
     "name": "stdout",
     "output_type": "stream",
     "text": [
      "Model Precision:  0.8654708520179372\n",
      "Model Recall:  0.8976744186046511\n",
      "Model F1_score:  0.8812785388127854\n"
     ]
    }
   ],
   "source": [
    "print('Model Precision: ', precision_score(Y_test, lr_y_pred))\n",
    "print('Model Recall: ', recall_score(Y_test, lr_y_pred))\n",
    "print('Model F1_score: ', f1_score(Y_test, lr_y_pred))"
   ]
  }
 ],
 "metadata": {
  "kernelspec": {
   "display_name": "Python 3 (ipykernel)",
   "language": "python",
   "name": "python3"
  },
  "language_info": {
   "codemirror_mode": {
    "name": "ipython",
    "version": 3
   },
   "file_extension": ".py",
   "mimetype": "text/x-python",
   "name": "python",
   "nbconvert_exporter": "python",
   "pygments_lexer": "ipython3",
   "version": "3.9.18"
  }
 },
 "nbformat": 4,
 "nbformat_minor": 5
}
