{
 "cells": [
  {
   "cell_type": "code",
   "execution_count": 1,
   "id": "b87bff4f-754e-403d-809e-c8e07da54ed9",
   "metadata": {},
   "outputs": [],
   "source": [
    "import pandas as pd\n",
    "from collections import Counter\n",
    "from modules.utils import build_dataset"
   ]
  },
  {
   "cell_type": "code",
   "execution_count": 2,
   "id": "ec3424f5-306f-40e0-8898-6a4941aae2ac",
   "metadata": {},
   "outputs": [],
   "source": [
    "dataset = build_dataset('archive/fake.csv', 'archive/true.csv')"
   ]
  },
  {
   "cell_type": "code",
   "execution_count": 3,
   "id": "c57c1df9-0d3f-4eb3-893b-e606e120b7d0",
   "metadata": {},
   "outputs": [
    {
     "data": {
      "text/plain": [
       "Counter({1: 23481, 0: 21417})"
      ]
     },
     "execution_count": 3,
     "metadata": {},
     "output_type": "execute_result"
    }
   ],
   "source": [
    "Counter([x['is_real'] for x in dataset.values()])"
   ]
  },
  {
   "cell_type": "code",
   "execution_count": null,
   "id": "8f782941-52a7-4849-8d9d-86e28031a176",
   "metadata": {},
   "outputs": [],
   "source": []
  }
 ],
 "metadata": {
  "kernelspec": {
   "display_name": "Python 3 (ipykernel)",
   "language": "python",
   "name": "python3"
  },
  "language_info": {
   "codemirror_mode": {
    "name": "ipython",
    "version": 3
   },
   "file_extension": ".py",
   "mimetype": "text/x-python",
   "name": "python",
   "nbconvert_exporter": "python",
   "pygments_lexer": "ipython3",
   "version": "3.9.18"
  }
 },
 "nbformat": 4,
 "nbformat_minor": 5
}
