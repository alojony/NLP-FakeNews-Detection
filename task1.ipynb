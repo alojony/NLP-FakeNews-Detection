{
 "cells": [
  {
   "cell_type": "markdown",
   "id": "2355d756-512d-4da8-b35e-d7bb0e1e7bc8",
   "metadata": {},
   "source": [
    "### PREDICT REAL/FAKE FROM TEXT"
   ]
  },
  {
   "cell_type": "code",
   "execution_count": 10,
   "id": "b87bff4f-754e-403d-809e-c8e07da54ed9",
   "metadata": {},
   "outputs": [],
   "source": [
    "from wordcloud import WordCloud\n",
    "import matplotlib.pyplot as plt\n",
    "import nltk\n",
    "import spacy\n",
    "import collections\n",
    "import seaborn as sns\n",
    "from nltk.tokenize import sent_tokenize, word_tokenize\n",
    "from modules.utils import build_dataset\n",
    "import sklearn\n",
    "from modules.preprocess import spacy_tokenizer\n",
    "from sklearn.model_selection import train_test_split\n",
    "from sklearn.feature_extraction.text import TfidfVectorizer, CountVectorizer\n",
    "from sklearn.naive_bayes import MultinomialNB\n",
    "from sklearn.linear_model import LogisticRegression\n",
    "from sklearn.metrics import accuracy_score, recall_score, f1_score, precision_score\n",
    "import pickle\n",
    "import numpy as np\n",
    "from collections import Counter"
   ]
  },
  {
   "cell_type": "code",
   "execution_count": 2,
   "id": "ec3424f5-306f-40e0-8898-6a4941aae2ac",
   "metadata": {},
   "outputs": [],
   "source": [
    "#Calling build dataset function, which returns specified number of samples from each class\n",
    "dataset = build_dataset('archive/fake.csv', 'archive/true.csv', num_class_samples=200)"
   ]
  },
  {
   "cell_type": "code",
   "execution_count": 3,
   "id": "6add6bfe-5a40-4f1e-8e9e-61a1c77e31a0",
   "metadata": {},
   "outputs": [],
   "source": [
    "#Create samples list (X) and target list (Y)\n",
    "X = [x['text'] for x in dataset.values()]\n",
    "Y = [x['is_real'] for x in dataset.values()]"
   ]
  },
  {
   "cell_type": "code",
   "execution_count": 4,
   "id": "96fa22b5-5a5d-4248-85a5-228ddcc62d17",
   "metadata": {},
   "outputs": [],
   "source": [
    "#Do train/test split\n",
    "X_train, X_test, Y_train, Y_test = train_test_split(X, Y, test_size=0.3, random_state = 42)"
   ]
  },
  {
   "cell_type": "code",
   "execution_count": 5,
   "id": "0f596c5a-6104-481d-80db-41eee5ba1d22",
   "metadata": {},
   "outputs": [],
   "source": [
    "#Define token counter function\n",
    "vector_count = CountVectorizer(tokenizer=spacy_tokenizer, lowercase=False)"
   ]
  },
  {
   "cell_type": "code",
   "execution_count": 6,
   "id": "c9e26628-c97e-4082-8135-dc366e40ceb6",
   "metadata": {},
   "outputs": [
    {
     "name": "stderr",
     "output_type": "stream",
     "text": [
      "/home/xavier/anaconda3/envs/nlp_env/lib/python3.9/site-packages/sklearn/feature_extraction/text.py:525: UserWarning: The parameter 'token_pattern' will not be used since 'tokenizer' is not None'\n",
      "  warnings.warn(\n"
     ]
    }
   ],
   "source": [
    "#Create bag of words (bow) for train and test sets\n",
    "bow_train = vector_count.fit_transform(X_train)\n",
    "bow_test =  vector_count.transform(X_test)"
   ]
  },
  {
   "cell_type": "code",
   "execution_count": 7,
   "id": "49530381-9018-46cb-b800-e2d9295ad710",
   "metadata": {},
   "outputs": [],
   "source": [
    "#pickle.dump((bow_train, bow_test), open('data/bow_train_test.pkl', 'wb'))\n",
    "#bow_train, bow_test = pickle.load(open('data/bow_train_test.pkl', 'rb'))"
   ]
  },
  {
   "cell_type": "code",
   "execution_count": 8,
   "id": "a4a67229-c813-4140-9d07-43150beae534",
   "metadata": {},
   "outputs": [],
   "source": [
    "#TODO: Hyperparameter tuning - Find best combination of solver, penalty, etc. \n",
    "\n",
    "#Define logistic regression model\n",
    "lr_model = LogisticRegression(random_state=42, solver='lbfgs', max_iter =2000)\n",
    "#Train logistic regression model\n",
    "lr_model.fit(bow_train, Y_train)\n",
    "#Get predictions on the test set\n",
    "lr_y_pred = lr_model.predict(bow_test)\n",
    "lr_y_proba = lr_model.predict_proba(bow_test)"
   ]
  },
  {
   "cell_type": "code",
   "execution_count": 9,
   "id": "f1c77ef3-7425-43f8-b609-99ee72283d97",
   "metadata": {},
   "outputs": [
    {
     "name": "stdout",
     "output_type": "stream",
     "text": [
      "Model Precision:  0.9838709677419355\n",
      "Model Recall:  0.9838709677419355\n",
      "Model F1_score:  0.9838709677419355\n"
     ]
    }
   ],
   "source": [
    "print('Model Precision: ', precision_score(Y_test, lr_y_pred))\n",
    "print('Model Recall: ', recall_score(Y_test, lr_y_pred))\n",
    "print('Model F1_score: ', f1_score(Y_test, lr_y_pred))"
   ]
  },
  {
   "cell_type": "code",
   "execution_count": null,
   "id": "3db3b3f3-3a07-4285-94ad-8bd61c054edd",
   "metadata": {},
   "outputs": [],
   "source": []
  }
 ],
 "metadata": {
  "kernelspec": {
   "display_name": "Python 3 (ipykernel)",
   "language": "python",
   "name": "python3"
  },
  "language_info": {
   "codemirror_mode": {
    "name": "ipython",
    "version": 3
   },
   "file_extension": ".py",
   "mimetype": "text/x-python",
   "name": "python",
   "nbconvert_exporter": "python",
   "pygments_lexer": "ipython3",
   "version": "3.9.18"
  }
 },
 "nbformat": 4,
 "nbformat_minor": 5
}
